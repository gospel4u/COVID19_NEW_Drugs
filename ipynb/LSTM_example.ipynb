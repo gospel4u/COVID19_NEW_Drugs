{
 "cells": [
  {
   "cell_type": "markdown",
   "metadata": {},
   "source": [
    "# LSTM 예제"
   ]
  },
  {
   "cell_type": "code",
   "execution_count": 17,
   "metadata": {},
   "outputs": [],
   "source": [
    "import torch\n",
    "import torch.nn as nn\n",
    "import torch.optim as optim\n",
    "import numpy as np"
   ]
  },
  {
   "cell_type": "markdown",
   "metadata": {},
   "source": [
    "index2char과 char2index는 각각 문자를 문자 자체로 입력하지 않고 one-hot의 형태로 입력하기 위해서 만들어준 python dict입니다.\n",
    "char2index를 출력하면 아래와 같은 형태가 됩니다."
   ]
  },
  {
   "cell_type": "code",
   "execution_count": 18,
   "metadata": {},
   "outputs": [],
   "source": [
    "sentence = 'In the beginning God created the heavens and the earth.'\n",
    "\n",
    "x = sentence[:]\n",
    "y = sentence[:]\n",
    "\n",
    "char_set = list(set(sentence))\n",
    "input_size = len(char_set)\n",
    "hidden_size = len(char_set)\n",
    "\n",
    "index2char = {i:c for i, c in enumerate(char_set)}\n",
    "char2index = {c:i for i, c in enumerate(char_set)}"
   ]
  },
  {
   "cell_type": "code",
   "execution_count": 19,
   "metadata": {},
   "outputs": [
    {
     "name": "stdout",
     "output_type": "stream",
     "text": [
      "In the beginning God created the heavens and the earth.\n",
      "In the beginning God created the heavens and the earth.\n"
     ]
    }
   ],
   "source": [
    "print(x)\n",
    "print(y)"
   ]
  },
  {
   "cell_type": "code",
   "execution_count": 20,
   "metadata": {},
   "outputs": [
    {
     "name": "stdout",
     "output_type": "stream",
     "text": [
      "{'t': 0, 'b': 1, 'G': 2, 'd': 3, 's': 4, 'a': 5, 'I': 6, 'e': 7, 'r': 8, 'c': 9, 'o': 10, 'i': 11, 'v': 12, 'n': 13, 'g': 14, ' ': 15, '.': 16, 'h': 17}\n"
     ]
    }
   ],
   "source": [
    "print(char2index)"
   ]
  },
  {
   "cell_type": "code",
   "execution_count": 21,
   "metadata": {},
   "outputs": [
    {
     "name": "stdout",
     "output_type": "stream",
     "text": [
      "['t', 'b', 'G', 'd', 's', 'a', 'I', 'e', 'r', 'c', 'o', 'i', 'v', 'n', 'g', ' ', '.', 'h']\n",
      "18\n",
      "18\n"
     ]
    }
   ],
   "source": [
    "print(char_set)\n",
    "print(input_size)\n",
    "print(hidden_size)"
   ]
  },
  {
   "cell_type": "markdown",
   "metadata": {},
   "source": [
    "입력된 sentence는 그대로 입력값으로 사용하지 않고 one-hot 형태로 변경해서 최종 x_train 형태의 데이터를 만듭니다. 문장을 one-hot 형태로 만들기 위해서 numpy의 eye함수를 사용합니다."
   ]
  },
  {
   "cell_type": "code",
   "execution_count": 22,
   "metadata": {},
   "outputs": [],
   "source": [
    "one_hot = []\n",
    "for i, tkn in enumerate(x):\n",
    "    one_hot.append(np.eye(len(char_set), dtype='int')[char2index[tkn]])\n",
    "    \n",
    "x_train = torch.Tensor(one_hot)\n",
    "x_train = x_train.view(1, len(x), -1)"
   ]
  },
  {
   "cell_type": "markdown",
   "metadata": {},
   "source": [
    "x_train 데이터의 첫번째 차원은 문장의 갯수, 두번째는 단어의 갯수, 세번째는 단어의 입력 차원입니다."
   ]
  },
  {
   "cell_type": "code",
   "execution_count": 23,
   "metadata": {},
   "outputs": [
    {
     "name": "stdout",
     "output_type": "stream",
     "text": [
      "tensor([[[0., 0., 0., 0., 0., 0., 1., 0., 0., 0., 0., 0., 0., 0., 0., 0., 0.,\n",
      "          0.],\n",
      "         [0., 0., 0., 0., 0., 0., 0., 0., 0., 0., 0., 0., 0., 1., 0., 0., 0.,\n",
      "          0.],\n",
      "         [0., 0., 0., 0., 0., 0., 0., 0., 0., 0., 0., 0., 0., 0., 0., 1., 0.,\n",
      "          0.],\n",
      "         [1., 0., 0., 0., 0., 0., 0., 0., 0., 0., 0., 0., 0., 0., 0., 0., 0.,\n",
      "          0.],\n",
      "         [0., 0., 0., 0., 0., 0., 0., 0., 0., 0., 0., 0., 0., 0., 0., 0., 0.,\n",
      "          1.],\n",
      "         [0., 0., 0., 0., 0., 0., 0., 1., 0., 0., 0., 0., 0., 0., 0., 0., 0.,\n",
      "          0.],\n",
      "         [0., 0., 0., 0., 0., 0., 0., 0., 0., 0., 0., 0., 0., 0., 0., 1., 0.,\n",
      "          0.],\n",
      "         [0., 1., 0., 0., 0., 0., 0., 0., 0., 0., 0., 0., 0., 0., 0., 0., 0.,\n",
      "          0.],\n",
      "         [0., 0., 0., 0., 0., 0., 0., 1., 0., 0., 0., 0., 0., 0., 0., 0., 0.,\n",
      "          0.],\n",
      "         [0., 0., 0., 0., 0., 0., 0., 0., 0., 0., 0., 0., 0., 0., 1., 0., 0.,\n",
      "          0.],\n",
      "         [0., 0., 0., 0., 0., 0., 0., 0., 0., 0., 0., 1., 0., 0., 0., 0., 0.,\n",
      "          0.],\n",
      "         [0., 0., 0., 0., 0., 0., 0., 0., 0., 0., 0., 0., 0., 1., 0., 0., 0.,\n",
      "          0.],\n",
      "         [0., 0., 0., 0., 0., 0., 0., 0., 0., 0., 0., 0., 0., 1., 0., 0., 0.,\n",
      "          0.],\n",
      "         [0., 0., 0., 0., 0., 0., 0., 0., 0., 0., 0., 1., 0., 0., 0., 0., 0.,\n",
      "          0.],\n",
      "         [0., 0., 0., 0., 0., 0., 0., 0., 0., 0., 0., 0., 0., 1., 0., 0., 0.,\n",
      "          0.],\n",
      "         [0., 0., 0., 0., 0., 0., 0., 0., 0., 0., 0., 0., 0., 0., 1., 0., 0.,\n",
      "          0.],\n",
      "         [0., 0., 0., 0., 0., 0., 0., 0., 0., 0., 0., 0., 0., 0., 0., 1., 0.,\n",
      "          0.],\n",
      "         [0., 0., 1., 0., 0., 0., 0., 0., 0., 0., 0., 0., 0., 0., 0., 0., 0.,\n",
      "          0.],\n",
      "         [0., 0., 0., 0., 0., 0., 0., 0., 0., 0., 1., 0., 0., 0., 0., 0., 0.,\n",
      "          0.],\n",
      "         [0., 0., 0., 1., 0., 0., 0., 0., 0., 0., 0., 0., 0., 0., 0., 0., 0.,\n",
      "          0.],\n",
      "         [0., 0., 0., 0., 0., 0., 0., 0., 0., 0., 0., 0., 0., 0., 0., 1., 0.,\n",
      "          0.],\n",
      "         [0., 0., 0., 0., 0., 0., 0., 0., 0., 1., 0., 0., 0., 0., 0., 0., 0.,\n",
      "          0.],\n",
      "         [0., 0., 0., 0., 0., 0., 0., 0., 1., 0., 0., 0., 0., 0., 0., 0., 0.,\n",
      "          0.],\n",
      "         [0., 0., 0., 0., 0., 0., 0., 1., 0., 0., 0., 0., 0., 0., 0., 0., 0.,\n",
      "          0.],\n",
      "         [0., 0., 0., 0., 0., 1., 0., 0., 0., 0., 0., 0., 0., 0., 0., 0., 0.,\n",
      "          0.],\n",
      "         [1., 0., 0., 0., 0., 0., 0., 0., 0., 0., 0., 0., 0., 0., 0., 0., 0.,\n",
      "          0.],\n",
      "         [0., 0., 0., 0., 0., 0., 0., 1., 0., 0., 0., 0., 0., 0., 0., 0., 0.,\n",
      "          0.],\n",
      "         [0., 0., 0., 1., 0., 0., 0., 0., 0., 0., 0., 0., 0., 0., 0., 0., 0.,\n",
      "          0.],\n",
      "         [0., 0., 0., 0., 0., 0., 0., 0., 0., 0., 0., 0., 0., 0., 0., 1., 0.,\n",
      "          0.],\n",
      "         [1., 0., 0., 0., 0., 0., 0., 0., 0., 0., 0., 0., 0., 0., 0., 0., 0.,\n",
      "          0.],\n",
      "         [0., 0., 0., 0., 0., 0., 0., 0., 0., 0., 0., 0., 0., 0., 0., 0., 0.,\n",
      "          1.],\n",
      "         [0., 0., 0., 0., 0., 0., 0., 1., 0., 0., 0., 0., 0., 0., 0., 0., 0.,\n",
      "          0.],\n",
      "         [0., 0., 0., 0., 0., 0., 0., 0., 0., 0., 0., 0., 0., 0., 0., 1., 0.,\n",
      "          0.],\n",
      "         [0., 0., 0., 0., 0., 0., 0., 0., 0., 0., 0., 0., 0., 0., 0., 0., 0.,\n",
      "          1.],\n",
      "         [0., 0., 0., 0., 0., 0., 0., 1., 0., 0., 0., 0., 0., 0., 0., 0., 0.,\n",
      "          0.],\n",
      "         [0., 0., 0., 0., 0., 1., 0., 0., 0., 0., 0., 0., 0., 0., 0., 0., 0.,\n",
      "          0.],\n",
      "         [0., 0., 0., 0., 0., 0., 0., 0., 0., 0., 0., 0., 1., 0., 0., 0., 0.,\n",
      "          0.],\n",
      "         [0., 0., 0., 0., 0., 0., 0., 1., 0., 0., 0., 0., 0., 0., 0., 0., 0.,\n",
      "          0.],\n",
      "         [0., 0., 0., 0., 0., 0., 0., 0., 0., 0., 0., 0., 0., 1., 0., 0., 0.,\n",
      "          0.],\n",
      "         [0., 0., 0., 0., 1., 0., 0., 0., 0., 0., 0., 0., 0., 0., 0., 0., 0.,\n",
      "          0.],\n",
      "         [0., 0., 0., 0., 0., 0., 0., 0., 0., 0., 0., 0., 0., 0., 0., 1., 0.,\n",
      "          0.],\n",
      "         [0., 0., 0., 0., 0., 1., 0., 0., 0., 0., 0., 0., 0., 0., 0., 0., 0.,\n",
      "          0.],\n",
      "         [0., 0., 0., 0., 0., 0., 0., 0., 0., 0., 0., 0., 0., 1., 0., 0., 0.,\n",
      "          0.],\n",
      "         [0., 0., 0., 1., 0., 0., 0., 0., 0., 0., 0., 0., 0., 0., 0., 0., 0.,\n",
      "          0.],\n",
      "         [0., 0., 0., 0., 0., 0., 0., 0., 0., 0., 0., 0., 0., 0., 0., 1., 0.,\n",
      "          0.],\n",
      "         [1., 0., 0., 0., 0., 0., 0., 0., 0., 0., 0., 0., 0., 0., 0., 0., 0.,\n",
      "          0.],\n",
      "         [0., 0., 0., 0., 0., 0., 0., 0., 0., 0., 0., 0., 0., 0., 0., 0., 0.,\n",
      "          1.],\n",
      "         [0., 0., 0., 0., 0., 0., 0., 1., 0., 0., 0., 0., 0., 0., 0., 0., 0.,\n",
      "          0.],\n",
      "         [0., 0., 0., 0., 0., 0., 0., 0., 0., 0., 0., 0., 0., 0., 0., 1., 0.,\n",
      "          0.],\n",
      "         [0., 0., 0., 0., 0., 0., 0., 1., 0., 0., 0., 0., 0., 0., 0., 0., 0.,\n",
      "          0.],\n",
      "         [0., 0., 0., 0., 0., 1., 0., 0., 0., 0., 0., 0., 0., 0., 0., 0., 0.,\n",
      "          0.],\n",
      "         [0., 0., 0., 0., 0., 0., 0., 0., 1., 0., 0., 0., 0., 0., 0., 0., 0.,\n",
      "          0.],\n",
      "         [1., 0., 0., 0., 0., 0., 0., 0., 0., 0., 0., 0., 0., 0., 0., 0., 0.,\n",
      "          0.],\n",
      "         [0., 0., 0., 0., 0., 0., 0., 0., 0., 0., 0., 0., 0., 0., 0., 0., 0.,\n",
      "          1.],\n",
      "         [0., 0., 0., 0., 0., 0., 0., 0., 0., 0., 0., 0., 0., 0., 0., 0., 1.,\n",
      "          0.]]])\n"
     ]
    }
   ],
   "source": [
    "print(x_train)"
   ]
  },
  {
   "cell_type": "markdown",
   "metadata": {},
   "source": [
    "y_data를 만들어 줍니다."
   ]
  },
  {
   "cell_type": "code",
   "execution_count": 24,
   "metadata": {},
   "outputs": [],
   "source": [
    "# y label\n",
    "y_data = [char2index[c] for c in y]\n",
    "y_data = torch.Tensor(y_data)"
   ]
  },
  {
   "cell_type": "markdown",
   "metadata": {},
   "source": [
    "## Build a model"
   ]
  },
  {
   "cell_type": "code",
   "execution_count": 25,
   "metadata": {},
   "outputs": [
    {
     "data": {
      "text/plain": [
       "RNN(\n",
       "  (rnn): LSTM(18, 18, num_layers=4, batch_first=True, bidirectional=True)\n",
       "  (layers): Sequential(\n",
       "    (0): ReLU()\n",
       "    (1): Linear(in_features=36, out_features=18, bias=True)\n",
       "  )\n",
       ")"
      ]
     },
     "execution_count": 25,
     "metadata": {},
     "output_type": "execute_result"
    }
   ],
   "source": [
    "class RNN(nn.Module):\n",
    "    \n",
    "    # (batch_size, n, )\n",
    "    def __init__(self, input_size, hidden_size):\n",
    "        super().__init__()\n",
    "        self.input_size = input_size\n",
    "        self.hidden_size = hidden_size\n",
    "        \n",
    "        self.rnn = nn.LSTM(\n",
    "            input_size = input_size,\n",
    "            hidden_size = hidden_size,\n",
    "            num_layers = 4,\n",
    "            batch_first = True,\n",
    "            bidirectional = True\n",
    "        )\n",
    "        \n",
    "        self.layers = nn.Sequential(\n",
    "            nn.ReLU(),\n",
    "            nn.Linear(input_size*2, hidden_size),\n",
    "        )\n",
    "        \n",
    "    def forward(self, x):\n",
    "        y,_ = self.rnn(x)\n",
    "        y = self.layers(y)\n",
    "        return y\n",
    "\n",
    "model = RNN(input_size, hidden_size)\n",
    "model"
   ]
  },
  {
   "cell_type": "markdown",
   "metadata": {},
   "source": [
    "- RNN 클래스는 init, forward 함수로 구성됩니다.   \n",
    " init함수는 LSTM 모델을 선언하는 부분과 softamx 함수를 선언하는 두부분이 있습니다.  \n",
    " LSTM 함수는 두개의 인자값을 기본으로 받습니다. input_size, hidden_size입니다.  \n",
    " input_size는 입력 벡터의 크기이며 hidden_size는 출력 벡터의 크기입니다.\n",
    "\n",
    "\n",
    "- 본 예제에서는 입력 벡터와 출력 벡터가 크기가 같습니다. 배치 사이즈나 시퀀스 사이즈는 파이토치에서 자동으로 계산하기 때문에 입력할 필요가 없습니다.  \n",
    " num_layers는 RNN의 층을 의미합니다.\n",
    "\n",
    "\n",
    "- 본 예제는 4개의 층으로 구성했기 때문에 num_layers를 4로 설정했습니다.  \n",
    " 그리고 bidirectional을 True로 했기 때문에 마지막 output의 형태는 input_size*2의 형태 가 됩니다.\n",
    " Linear 레이어는 input_size의 차원을 줄이기 위해서 선언합니다.\n",
    " \n",
    "\n",
    "- 또 모델을 만들면서 중요한 것은 batch_first를 True로 해줘야 한다는 것입니다. 그렇지 않으면 time-step(=sequence_length), batch_size, input_vector 의 형태가 됩니다."
   ]
  },
  {
   "cell_type": "markdown",
   "metadata": {},
   "source": [
    "## loss & optimizer setting"
   ]
  },
  {
   "cell_type": "code",
   "execution_count": 26,
   "metadata": {},
   "outputs": [],
   "source": [
    "criterion = nn.CrossEntropyLoss()\n",
    "optimizer = optim.Adam(model.parameters())"
   ]
  },
  {
   "cell_type": "markdown",
   "metadata": {},
   "source": [
    "## Training"
   ]
  },
  {
   "cell_type": "code",
   "execution_count": 27,
   "metadata": {},
   "outputs": [
    {
     "name": "stdout",
     "output_type": "stream",
     "text": [
      "0 loss  2.870161294937134 \n",
      "prediction:  [[2 9 9 9 9 9 9 9 9 9 9 9 9 9 9 9 9 9 9 9 9 9 9 9 9 9 9 9 9 9 9 9 9 9 9 9\n",
      "  9 9 9 9 9 9 9 9 9 9 9 9 9 9 9 9 9 9 9]] \n",
      "true Y:  tensor([ 6., 13., 15.,  0., 17.,  7., 15.,  1.,  7., 14., 11., 13., 13., 11.,\n",
      "        13., 14., 15.,  2., 10.,  3., 15.,  9.,  8.,  7.,  5.,  0.,  7.,  3.,\n",
      "        15.,  0., 17.,  7., 15., 17.,  7.,  5., 12.,  7., 13.,  4., 15.,  5.,\n",
      "        13.,  3., 15.,  0., 17.,  7., 15.,  7.,  5.,  8.,  0., 17., 16.]) \n",
      "prediction str:  Gcccccccccccccccccccccccccccccccccccccccccccccccccccccc \n",
      "\n",
      "500 loss  1.5511069297790527 \n",
      "prediction:  [[ 6 13 15  0 17  7  7  7  7 13 13 13 13 13 13 13 15  2 15 15 15  9  8  7\n",
      "   7  7  7  7  7  7  7  7  7  7  7  7  7  7  7 15 15 15 15 15 15 15 15 15\n",
      "  15  7  5  0  0 17 16]] \n",
      "true Y:  tensor([ 6., 13., 15.,  0., 17.,  7., 15.,  1.,  7., 14., 11., 13., 13., 11.,\n",
      "        13., 14., 15.,  2., 10.,  3., 15.,  9.,  8.,  7.,  5.,  0.,  7.,  3.,\n",
      "        15.,  0., 17.,  7., 15., 17.,  7.,  5., 12.,  7., 13.,  4., 15.,  5.,\n",
      "        13.,  3., 15.,  0., 17.,  7., 15.,  7.,  5.,  8.,  0., 17., 16.]) \n",
      "prediction str:  In theeeennnnnnn G   creeeeeeeeeeeeeeee          eatth. \n",
      "\n",
      "1000 loss  0.8998892307281494 \n",
      "prediction:  [[ 6 13 15  0 17  7  7  1  7 14 13 13 13 13 13 14 15  2 10  3 15  9  8  7\n",
      "   5  0  7  3 15  0 17 17 17 17  7  7  7  7  5 13 13 13 13 15 15  0 17  7\n",
      "   7  7  5  8  0 17 16]] \n",
      "true Y:  tensor([ 6., 13., 15.,  0., 17.,  7., 15.,  1.,  7., 14., 11., 13., 13., 11.,\n",
      "        13., 14., 15.,  2., 10.,  3., 15.,  9.,  8.,  7.,  5.,  0.,  7.,  3.,\n",
      "        15.,  0., 17.,  7., 15., 17.,  7.,  5., 12.,  7., 13.,  4., 15.,  5.,\n",
      "        13.,  3., 15.,  0., 17.,  7., 15.,  7.,  5.,  8.,  0., 17., 16.]) \n",
      "prediction str:  In theebegnnnnng God created thhhheeeeannnn  theeearth. \n",
      "\n",
      "1500 loss  0.44487443566322327 \n",
      "prediction:  [[ 6 13 15  0 17  7 15  1  7 14 13 13 13 13 13 14 15  2 10  3 15  9  8  7\n",
      "   5  0  7  3 15  0 17  7 15 17  7  7  7  7  5 13 13 13 13  3 15  0 17  7\n",
      "   7  7  5  8  0 17 16]] \n",
      "true Y:  tensor([ 6., 13., 15.,  0., 17.,  7., 15.,  1.,  7., 14., 11., 13., 13., 11.,\n",
      "        13., 14., 15.,  2., 10.,  3., 15.,  9.,  8.,  7.,  5.,  0.,  7.,  3.,\n",
      "        15.,  0., 17.,  7., 15., 17.,  7.,  5., 12.,  7., 13.,  4., 15.,  5.,\n",
      "        13.,  3., 15.,  0., 17.,  7., 15.,  7.,  5.,  8.,  0., 17., 16.]) \n",
      "prediction str:  In the begnnnnng God created the heeeeannnnd theeearth. \n",
      "\n",
      "2000 loss  0.20844896137714386 \n",
      "prediction:  [[ 6 13 15  0 17  7 15  1  7 14 11 13 13 13 13 14 15  2 10  3 15  9  8  7\n",
      "   5  0  7  3 15  0 17  7 15 17  7  5 12  7 13  4 15  5 13  3 15  0 17  7\n",
      "  15  7  5  8  0 17 16]] \n",
      "true Y:  tensor([ 6., 13., 15.,  0., 17.,  7., 15.,  1.,  7., 14., 11., 13., 13., 11.,\n",
      "        13., 14., 15.,  2., 10.,  3., 15.,  9.,  8.,  7.,  5.,  0.,  7.,  3.,\n",
      "        15.,  0., 17.,  7., 15., 17.,  7.,  5., 12.,  7., 13.,  4., 15.,  5.,\n",
      "        13.,  3., 15.,  0., 17.,  7., 15.,  7.,  5.,  8.,  0., 17., 16.]) \n",
      "prediction str:  In the beginnnng God created the heavens and the earth. \n",
      "\n",
      "2500 loss  0.08548348397016525 \n",
      "prediction:  [[ 6 13 15  0 17  7 15  1  7 14 11 13 13 11 13 14 15  2 10  3 15  9  8  7\n",
      "   5  0  7  3 15  0 17  7 15 17  7  5 12  7 13  4 15  5 13  3 15  0 17  7\n",
      "  15  7  5  8  0 17 16]] \n",
      "true Y:  tensor([ 6., 13., 15.,  0., 17.,  7., 15.,  1.,  7., 14., 11., 13., 13., 11.,\n",
      "        13., 14., 15.,  2., 10.,  3., 15.,  9.,  8.,  7.,  5.,  0.,  7.,  3.,\n",
      "        15.,  0., 17.,  7., 15., 17.,  7.,  5., 12.,  7., 13.,  4., 15.,  5.,\n",
      "        13.,  3., 15.,  0., 17.,  7., 15.,  7.,  5.,  8.,  0., 17., 16.]) \n",
      "prediction str:  In the beginning God created the heavens and the earth. \n",
      "\n",
      "3000 loss  0.04461383819580078 \n",
      "prediction:  [[ 6 13 15  0 17  7 15  1  7 14 11 13 13 11 13 14 15  2 10  3 15  9  8  7\n",
      "   5  0  7  3 15  0 17  7 15 17  7  5 12  7 13  4 15  5 13  3 15  0 17  7\n",
      "  15  7  5  8  0 17 16]] \n",
      "true Y:  tensor([ 6., 13., 15.,  0., 17.,  7., 15.,  1.,  7., 14., 11., 13., 13., 11.,\n",
      "        13., 14., 15.,  2., 10.,  3., 15.,  9.,  8.,  7.,  5.,  0.,  7.,  3.,\n",
      "        15.,  0., 17.,  7., 15., 17.,  7.,  5., 12.,  7., 13.,  4., 15.,  5.,\n",
      "        13.,  3., 15.,  0., 17.,  7., 15.,  7.,  5.,  8.,  0., 17., 16.]) \n",
      "prediction str:  In the beginning God created the heavens and the earth. \n",
      "\n",
      "3500 loss  0.027842527255415916 \n",
      "prediction:  [[ 6 13 15  0 17  7 15  1  7 14 11 13 13 11 13 14 15  2 10  3 15  9  8  7\n",
      "   5  0  7  3 15  0 17  7 15 17  7  5 12  7 13  4 15  5 13  3 15  0 17  7\n",
      "  15  7  5  8  0 17 16]] \n",
      "true Y:  tensor([ 6., 13., 15.,  0., 17.,  7., 15.,  1.,  7., 14., 11., 13., 13., 11.,\n",
      "        13., 14., 15.,  2., 10.,  3., 15.,  9.,  8.,  7.,  5.,  0.,  7.,  3.,\n",
      "        15.,  0., 17.,  7., 15., 17.,  7.,  5., 12.,  7., 13.,  4., 15.,  5.,\n",
      "        13.,  3., 15.,  0., 17.,  7., 15.,  7.,  5.,  8.,  0., 17., 16.]) \n",
      "prediction str:  In the beginning God created the heavens and the earth. \n",
      "\n"
     ]
    }
   ],
   "source": [
    "epoch = 4000\n",
    "loss_values = []\n",
    "for i in range(epoch):\n",
    "    model.train()\n",
    "    outputs = model(x_train)\n",
    "    loss = criterion(outputs.view(-1, input_size), y_data.view(-1).long())\n",
    "    \n",
    "    optimizer.zero_grad()\n",
    "    loss.backward()\n",
    "    optimizer.step()\n",
    "    \n",
    "    loss_values.append(loss.item())\n",
    "    \n",
    "    if i%500 == 0:\n",
    "        result = outputs.data.numpy().argmax(axis=2)\n",
    "        result_str = ''.join([char_set[c] for c in np.squeeze(result)])\n",
    "        print(i, \"loss \", loss.item(), \"\\nprediction: \", result, \"\\ntrue Y: \"\n",
    "              , y_data, \"\\nprediction str: \", result_str, \"\\n\")"
   ]
  },
  {
   "cell_type": "code",
   "execution_count": 31,
   "metadata": {},
   "outputs": [
    {
     "data": {
      "image/png": "[encoded data removed]",
      "text/plain": [
       "<Figure size 432x288 with 1 Axes>"
      ]
     },
     "metadata": {
      "needs_background": "light"
     },
     "output_type": "display_data"
    }
   ],
   "source": [
    "import matplotlib.pyplot as plt\n",
    "plt.title('Loss Value')\n",
    "plt.plot(np.array(loss_values), 'r')\n",
    "plt.xlabel('Epochs')\n",
    "plt.ylabel('Loss')\n",
    "plt.show()"
   ]
  },
  {
   "cell_type": "markdown",
   "metadata": {},
   "source": [
    "---------------------------"
   ]
  },
  {
   "cell_type": "markdown",
   "metadata": {},
   "source": [
    "참고문헌: http://cedartrees.co.kr/index.php/2020/08/01/pytorch-lstm-example/"
   ]
  }
 ],
 "metadata": {
  "kernelspec": {
   "display_name": "Python 3",
   "language": "python",
   "name": "python3"
  },
  "language_info": {
   "codemirror_mode": {
    "name": "ipython",
    "version": 3
   },
   "file_extension": ".py",
   "mimetype": "text/x-python",
   "name": "python",
   "nbconvert_exporter": "python",
   "pygments_lexer": "ipython3",
   "version": "3.8.3"
  }
 },
 "nbformat": 4,
 "nbformat_minor": 4
}
