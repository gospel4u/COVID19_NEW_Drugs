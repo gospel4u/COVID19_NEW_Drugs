{
 "cells": [
  {
   "cell_type": "markdown",
   "metadata": {},
   "source": [
    "# pytorch를 이용한 MNIST 예제입니다."
   ]
  },
  {
   "cell_type": "markdown",
   "metadata": {},
   "source": [
    "먼저 해당 라이브러리 등을 선언해줍니다."
   ]
  },
  {
   "cell_type": "code",
   "execution_count": 8,
   "metadata": {},
   "outputs": [],
   "source": [
    "import torch\n",
    "import torch.nn as nn\n",
    "import torch.nn.functional as F\n",
    "import torch.optim as optim\n",
    "from torchvision import datasets, transforms\n",
    "from torch.autograd import Variable"
   ]
  },
  {
   "cell_type": "markdown",
   "metadata": {},
   "source": [
    "그다음, 모델의 구조를 작성합니다."
   ]
  },
  {
   "cell_type": "code",
   "execution_count": 9,
   "metadata": {},
   "outputs": [],
   "source": [
    "# model architecture\n",
    "class Net(nn.Module):\n",
    "    def __init__(self):\n",
    "        super(Net, self).__init__()\n",
    "        self.fc1 = nn.Linear(784, 512)\n",
    "        self.fc2 = nn.Linear(512, 256)\n",
    "        self.fc3 = nn.Linear(256, 128)\n",
    "        self.fc4 = nn.Linear(128, 64)\n",
    "        self.fc5= nn.Linear(64, 32)\n",
    "        self.fc6 = nn.Linear(32, 10)\n",
    "    \n",
    "    def forward(self, x):\n",
    "        x = x.float()\n",
    "        h1 = F.relu(self.fc1(x.view(-1, 784)))\n",
    "        h2 = F.relu(self.fc2(h1))\n",
    "        h3 = F.relu(self.fc3(h2))\n",
    "        h4 = F.relu(self.fc4(h3))\n",
    "        h5 = F.relu(self.fc5(h4))\n",
    "        h6 = self.fc6(h5)\n",
    "        return F.log_softmax(h6, dim = 1)"
   ]
  },
  {
   "cell_type": "code",
   "execution_count": 10,
   "metadata": {},
   "outputs": [],
   "source": [
    "batch_size = 64\n",
    "test_batch_size = 1000\n",
    "epochs = 10\n",
    "lr = 0.01\n",
    "momentum = 0.5\n",
    "no_cuda = True  # not use GPU\n",
    "seed = 1\n",
    "log_interval = 200\n",
    "\n",
    "use_cuda = not no_cuda and torch.cuda.is_available()\n",
    "\n",
    "torch.manual_seed(seed)\n",
    "\n",
    "device = torch.device(\"cuda\" if use_cuda else \"cpu\")\n",
    "\n",
    "kwargs = {'num_workers': 1, 'pin_memory': True} if use_cuda else {}"
   ]
  },
  {
   "cell_type": "code",
   "execution_count": 11,
   "metadata": {},
   "outputs": [],
   "source": [
    "transform = transforms.Compose([\n",
    "                transforms.ToTensor(),\n",
    "                transforms.Normalize((0.1307,), (0.3081,))])\n",
    "\n",
    "train_loader = torch.utils.data.DataLoader(\n",
    "    datasets.MNIST('../data', train=True, download=True,\n",
    "                  transform=transform),\n",
    "    batch_size = batch_size, shuffle=True, **kwargs)\n",
    "\n",
    "test_loader = torch.utils.data.DataLoader(\n",
    "    datasets.MNIST('../data', train=False, download=True,\n",
    "                  transform=transform),\n",
    "    batch_size = test_batch_size, shuffle=True, **kwargs)\n",
    "\n",
    "model = Net().to(device)\n",
    "optimizer = optim.SGD(model.parameters(), lr=lr, momentum=momentum)"
   ]
  },
  {
   "cell_type": "code",
   "execution_count": 18,
   "metadata": {},
   "outputs": [],
   "source": [
    "def train(log_interval, model, device, train_loader, optimizer, epoch):\n",
    "    model.train()\n",
    "    for batch_idx, (data, target) in enumerate(train_loader): # data와 target을 64개씩 가져옴\n",
    "        data, target = data.to(device), target.to(device)     # GPU or CPU인지 설정\n",
    "        optimizer.zero_grad()\n",
    "        output = model(data)\n",
    "        loss = F.nll_loss(output, target)\n",
    "        loss.backward()\n",
    "        optimizer.step()\n",
    "        if batch_idx % log_interval == 0:\n",
    "            print('Train Epoch: {} [{}/{} ({:.0f}%)]\\tLoss: {:.6f}'.format(\n",
    "                epoch, batch_idx * len(data), len(train_loader.dataset),\n",
    "            100. * batch_idx / len(train_loader), loss.item()))"
   ]
  },
  {
   "cell_type": "code",
   "execution_count": 23,
   "metadata": {},
   "outputs": [
    {
     "name": "stdout",
     "output_type": "stream",
     "text": [
      "done\n"
     ]
    }
   ],
   "source": [
    "def test(log_interval, model, device, test_loader):\n",
    "    model.eval()\n",
    "    test_loss = 0\n",
    "    correct = 0\n",
    "    with torch.no_grad():\n",
    "        for data, target in test_loader:\n",
    "            data, target = data.to(device), target.to(device)\n",
    "            output = model(data)\n",
    "            test_loss += F.nll_loss(output, target, reduction = 'sum').item()\n",
    "            pred = output.argmax(dim=1, keepdim=True)\n",
    "            correct += pred.eq(target.view_as(pred)).sum().item()\n",
    "            \n",
    "    test_loss /= len(test_loader.dataset)\n",
    "    \n",
    "    print('\\nTest set: Average loss: {:.4f}, Accuracy: {}/{} ({:.0f}%)\\n'.format(\n",
    "        test_loss, correct, len(test_loader.dataset),\n",
    "        100. * correct / len(test_loader.dataset)))\n",
    "    \n",
    "print(\"done\")"
   ]
  },
  {
   "cell_type": "code",
   "execution_count": 24,
   "metadata": {},
   "outputs": [
    {
     "name": "stdout",
     "output_type": "stream",
     "text": [
      "tensor([[[[-0.4242, -0.4242, -0.4242,  ..., -0.4242, -0.4242, -0.4242],\n",
      "          [-0.4242, -0.4242, -0.4242,  ..., -0.4242, -0.4242, -0.4242],\n",
      "          [-0.4242, -0.4242, -0.4242,  ..., -0.4242, -0.4242, -0.4242],\n",
      "          ...,\n",
      "          [-0.4242, -0.4242, -0.4242,  ..., -0.4242, -0.4242, -0.4242],\n",
      "          [-0.4242, -0.4242, -0.4242,  ..., -0.4242, -0.4242, -0.4242],\n",
      "          [-0.4242, -0.4242, -0.4242,  ..., -0.4242, -0.4242, -0.4242]]],\n",
      "\n",
      "\n",
      "        [[[-0.4242, -0.4242, -0.4242,  ..., -0.4242, -0.4242, -0.4242],\n",
      "          [-0.4242, -0.4242, -0.4242,  ..., -0.4242, -0.4242, -0.4242],\n",
      "          [-0.4242, -0.4242, -0.4242,  ..., -0.4242, -0.4242, -0.4242],\n",
      "          ...,\n",
      "          [-0.4242, -0.4242, -0.4242,  ..., -0.4242, -0.4242, -0.4242],\n",
      "          [-0.4242, -0.4242, -0.4242,  ..., -0.4242, -0.4242, -0.4242],\n",
      "          [-0.4242, -0.4242, -0.4242,  ..., -0.4242, -0.4242, -0.4242]]],\n",
      "\n",
      "\n",
      "        [[[-0.4242, -0.4242, -0.4242,  ..., -0.4242, -0.4242, -0.4242],\n",
      "          [-0.4242, -0.4242, -0.4242,  ..., -0.4242, -0.4242, -0.4242],\n",
      "          [-0.4242, -0.4242, -0.4242,  ..., -0.4242, -0.4242, -0.4242],\n",
      "          ...,\n",
      "          [-0.4242, -0.4242, -0.4242,  ..., -0.4242, -0.4242, -0.4242],\n",
      "          [-0.4242, -0.4242, -0.4242,  ..., -0.4242, -0.4242, -0.4242],\n",
      "          [-0.4242, -0.4242, -0.4242,  ..., -0.4242, -0.4242, -0.4242]]],\n",
      "\n",
      "\n",
      "        ...,\n",
      "\n",
      "\n",
      "        [[[-0.4242, -0.4242, -0.4242,  ..., -0.4242, -0.4242, -0.4242],\n",
      "          [-0.4242, -0.4242, -0.4242,  ..., -0.4242, -0.4242, -0.4242],\n",
      "          [-0.4242, -0.4242, -0.4242,  ..., -0.4242, -0.4242, -0.4242],\n",
      "          ...,\n",
      "          [-0.4242, -0.4242, -0.4242,  ..., -0.4242, -0.4242, -0.4242],\n",
      "          [-0.4242, -0.4242, -0.4242,  ..., -0.4242, -0.4242, -0.4242],\n",
      "          [-0.4242, -0.4242, -0.4242,  ..., -0.4242, -0.4242, -0.4242]]],\n",
      "\n",
      "\n",
      "        [[[-0.4242, -0.4242, -0.4242,  ..., -0.4242, -0.4242, -0.4242],\n",
      "          [-0.4242, -0.4242, -0.4242,  ..., -0.4242, -0.4242, -0.4242],\n",
      "          [-0.4242, -0.4242, -0.4242,  ..., -0.4242, -0.4242, -0.4242],\n",
      "          ...,\n",
      "          [-0.4242, -0.4242, -0.4242,  ..., -0.4242, -0.4242, -0.4242],\n",
      "          [-0.4242, -0.4242, -0.4242,  ..., -0.4242, -0.4242, -0.4242],\n",
      "          [-0.4242, -0.4242, -0.4242,  ..., -0.4242, -0.4242, -0.4242]]],\n",
      "\n",
      "\n",
      "        [[[-0.4242, -0.4242, -0.4242,  ..., -0.4242, -0.4242, -0.4242],\n",
      "          [-0.4242, -0.4242, -0.4242,  ..., -0.4242, -0.4242, -0.4242],\n",
      "          [-0.4242, -0.4242, -0.4242,  ..., -0.4242, -0.4242, -0.4242],\n",
      "          ...,\n",
      "          [-0.4242, -0.4242, -0.4242,  ..., -0.4242, -0.4242, -0.4242],\n",
      "          [-0.4242, -0.4242, -0.4242,  ..., -0.4242, -0.4242, -0.4242],\n",
      "          [-0.4242, -0.4242, -0.4242,  ..., -0.4242, -0.4242, -0.4242]]]]) tensor([9, 0, 2, 6, 9, 5, 4, 2, 2, 5, 2, 4, 9, 5, 3, 5, 6, 1, 9, 8, 4, 0, 6, 8,\n",
      "        3, 2, 7, 0, 7, 7, 5, 5, 7, 8, 1, 6, 0, 0, 7, 8, 8, 3, 0, 2, 1, 4, 0, 2,\n",
      "        3, 2, 2, 2, 6, 9, 1, 0, 0, 5, 2, 7, 6, 4, 4, 5])\n"
     ]
    }
   ],
   "source": [
    "for batch, (data, target) in enumerate(train_loader):\n",
    "    print(data, target)\n",
    "    break"
   ]
  },
  {
   "cell_type": "code",
   "execution_count": 25,
   "metadata": {},
   "outputs": [
    {
     "name": "stdout",
     "output_type": "stream",
     "text": [
      "Train Epoch: 1 [0/60000 (0%)]\tLoss: 0.713005\n",
      "Train Epoch: 1 [12800/60000 (21%)]\tLoss: 0.481927\n",
      "Train Epoch: 1 [25600/60000 (43%)]\tLoss: 0.435353\n",
      "Train Epoch: 1 [38400/60000 (64%)]\tLoss: 0.271942\n",
      "Train Epoch: 1 [51200/60000 (85%)]\tLoss: 0.289681\n",
      "\n",
      "Test set: Average loss: 0.2828, Accuracy: 9156/10000 (92%)\n",
      "\n",
      "Train Epoch: 2 [0/60000 (0%)]\tLoss: 0.254975\n",
      "Train Epoch: 2 [12800/60000 (21%)]\tLoss: 0.395150\n",
      "Train Epoch: 2 [25600/60000 (43%)]\tLoss: 0.170115\n",
      "Train Epoch: 2 [38400/60000 (64%)]\tLoss: 0.114126\n",
      "Train Epoch: 2 [51200/60000 (85%)]\tLoss: 0.380536\n",
      "\n",
      "Test set: Average loss: 0.1798, Accuracy: 9484/10000 (95%)\n",
      "\n",
      "Train Epoch: 3 [0/60000 (0%)]\tLoss: 0.121257\n",
      "Train Epoch: 3 [12800/60000 (21%)]\tLoss: 0.164418\n",
      "Train Epoch: 3 [25600/60000 (43%)]\tLoss: 0.192715\n",
      "Train Epoch: 3 [38400/60000 (64%)]\tLoss: 0.060136\n",
      "Train Epoch: 3 [51200/60000 (85%)]\tLoss: 0.135029\n",
      "\n",
      "Test set: Average loss: 0.1324, Accuracy: 9610/10000 (96%)\n",
      "\n",
      "Train Epoch: 4 [0/60000 (0%)]\tLoss: 0.090030\n",
      "Train Epoch: 4 [12800/60000 (21%)]\tLoss: 0.094691\n",
      "Train Epoch: 4 [25600/60000 (43%)]\tLoss: 0.118618\n",
      "Train Epoch: 4 [38400/60000 (64%)]\tLoss: 0.082677\n",
      "Train Epoch: 4 [51200/60000 (85%)]\tLoss: 0.088766\n",
      "\n",
      "Test set: Average loss: 0.1414, Accuracy: 9571/10000 (96%)\n",
      "\n",
      "Train Epoch: 5 [0/60000 (0%)]\tLoss: 0.023184\n",
      "Train Epoch: 5 [12800/60000 (21%)]\tLoss: 0.072560\n",
      "Train Epoch: 5 [25600/60000 (43%)]\tLoss: 0.128004\n",
      "Train Epoch: 5 [38400/60000 (64%)]\tLoss: 0.040292\n",
      "Train Epoch: 5 [51200/60000 (85%)]\tLoss: 0.173305\n",
      "\n",
      "Test set: Average loss: 0.0953, Accuracy: 9722/10000 (97%)\n",
      "\n",
      "Train Epoch: 6 [0/60000 (0%)]\tLoss: 0.133873\n",
      "Train Epoch: 6 [12800/60000 (21%)]\tLoss: 0.106971\n",
      "Train Epoch: 6 [25600/60000 (43%)]\tLoss: 0.021305\n",
      "Train Epoch: 6 [38400/60000 (64%)]\tLoss: 0.018109\n",
      "Train Epoch: 6 [51200/60000 (85%)]\tLoss: 0.046582\n",
      "\n",
      "Test set: Average loss: 0.1127, Accuracy: 9679/10000 (97%)\n",
      "\n",
      "Train Epoch: 7 [0/60000 (0%)]\tLoss: 0.043757\n",
      "Train Epoch: 7 [12800/60000 (21%)]\tLoss: 0.069768\n",
      "Train Epoch: 7 [25600/60000 (43%)]\tLoss: 0.041108\n",
      "Train Epoch: 7 [38400/60000 (64%)]\tLoss: 0.050735\n",
      "Train Epoch: 7 [51200/60000 (85%)]\tLoss: 0.005418\n",
      "\n",
      "Test set: Average loss: 0.0882, Accuracy: 9742/10000 (97%)\n",
      "\n",
      "Train Epoch: 8 [0/60000 (0%)]\tLoss: 0.017747\n",
      "Train Epoch: 8 [12800/60000 (21%)]\tLoss: 0.040584\n",
      "Train Epoch: 8 [25600/60000 (43%)]\tLoss: 0.013716\n",
      "Train Epoch: 8 [38400/60000 (64%)]\tLoss: 0.042034\n",
      "Train Epoch: 8 [51200/60000 (85%)]\tLoss: 0.006257\n",
      "\n",
      "Test set: Average loss: 0.0906, Accuracy: 9731/10000 (97%)\n",
      "\n",
      "Train Epoch: 9 [0/60000 (0%)]\tLoss: 0.003481\n",
      "Train Epoch: 9 [12800/60000 (21%)]\tLoss: 0.022853\n",
      "Train Epoch: 9 [25600/60000 (43%)]\tLoss: 0.002051\n",
      "Train Epoch: 9 [38400/60000 (64%)]\tLoss: 0.002873\n",
      "Train Epoch: 9 [51200/60000 (85%)]\tLoss: 0.012777\n",
      "\n",
      "Test set: Average loss: 0.0902, Accuracy: 9748/10000 (97%)\n",
      "\n",
      "Train Epoch: 10 [0/60000 (0%)]\tLoss: 0.017369\n",
      "Train Epoch: 10 [12800/60000 (21%)]\tLoss: 0.003146\n",
      "Train Epoch: 10 [25600/60000 (43%)]\tLoss: 0.033601\n",
      "Train Epoch: 10 [38400/60000 (64%)]\tLoss: 0.003078\n",
      "Train Epoch: 10 [51200/60000 (85%)]\tLoss: 0.003542\n",
      "\n",
      "Test set: Average loss: 0.1098, Accuracy: 9711/10000 (97%)\n",
      "\n"
     ]
    }
   ],
   "source": [
    "for epoch in range(1, 11):\n",
    "    train(log_interval, model, device, train_loader, optimizer, epoch)\n",
    "    test(log_interval, model, device, test_loader)"
   ]
  },
  {
   "cell_type": "markdown",
   "metadata": {},
   "source": [
    "------------------"
   ]
  },
  {
   "cell_type": "code",
   "execution_count": 26,
   "metadata": {},
   "outputs": [],
   "source": [
    "# model architecture\n",
    "class NetCNN(nn.Module):\n",
    "    def __init__(self):\n",
    "        # 항상 torch.nn.Module을 상속받고 시작\n",
    "        super(NetCNN, self).__init__()\n",
    "        self.conv1 = nn.Conv2d(1, 10, kernel_size = 5)\n",
    "        self.conv2 = nn.Conv2d(10, 20, kernel_size= 5)\n",
    "        self.conv2_drop = nn.Dropout2d()\n",
    "        self.fc1 = nn.Linear(320, 50)\n",
    "        self.fc2 = nn.Linear(50, 10)\n",
    "    \n",
    "    def forward(self, x):\n",
    "        x = F.relu(F.max_pool2d(self.conv1(x), 2))\n",
    "        x = F.relu(F.max_pool2d(self.conv2_drop(self.conv2(x)), 2))\n",
    "        x = x.view(-1, 320)\n",
    "        x = F.relu(self.fc1(x))\n",
    "        x = F.dropout(x, training=self.training)\n",
    "        x = self.fc2(x)\n",
    "        return F.log_softmax(x, dim=1)\n"
   ]
  },
  {
   "cell_type": "markdown",
   "metadata": {},
   "source": [
    "다음으로 데이터를 가져와 줍니다.\n",
    "가져올 데이터는 MNIST 데이터입니다."
   ]
  },
  {
   "cell_type": "code",
   "execution_count": 8,
   "metadata": {},
   "outputs": [],
   "source": [
    "# data iterator\n",
    "train_iter = torch.utils.data.DataLoader(\n",
    "    datasets.MNIST('../data', train=True, download=True,\n",
    "                transform=transforms.Compose([transforms.ToTensor()])),\n",
    "    batch_size=64, shuffle=True)\n"
   ]
  },
  {
   "cell_type": "markdown",
   "metadata": {},
   "source": [
    "모델 학습"
   ]
  },
  {
   "cell_type": "code",
   "execution_count": 12,
   "metadata": {},
   "outputs": [],
   "source": [
    "cnn = NetCNN()"
   ]
  },
  {
   "cell_type": "code",
   "execution_count": 16,
   "metadata": {},
   "outputs": [],
   "source": [
    "use_cuda = torch.cuda.is_available()"
   ]
  },
  {
   "cell_type": "code",
   "execution_count": 19,
   "metadata": {},
   "outputs": [
    {
     "name": "stdout",
     "output_type": "stream",
     "text": [
      "epoch: 1/2 | step: 100/938 | trn loss: 0.6036 | val loss: 0.5613\n",
      "epoch: 1/2 | step: 200/938 | trn loss: 0.5215 | val loss: 0.4938\n",
      "epoch: 1/2 | step: 300/938 | trn loss: 0.4677 | val loss: 0.4429\n",
      "epoch: 1/2 | step: 400/938 | trn loss: 0.4501 | val loss: 0.4073\n",
      "epoch: 1/2 | step: 500/938 | trn loss: 0.4074 | val loss: 0.3835\n",
      "epoch: 1/2 | step: 600/938 | trn loss: 0.3902 | val loss: 0.3562\n",
      "epoch: 1/2 | step: 700/938 | trn loss: 0.3570 | val loss: 0.3444\n",
      "epoch: 1/2 | step: 800/938 | trn loss: 0.3574 | val loss: 0.3285\n",
      "epoch: 1/2 | step: 900/938 | trn loss: 0.3239 | val loss: 0.3216\n",
      "epoch: 2/2 | step: 100/938 | trn loss: 0.2978 | val loss: 0.3122\n",
      "epoch: 2/2 | step: 200/938 | trn loss: 0.3032 | val loss: 0.2977\n",
      "epoch: 2/2 | step: 300/938 | trn loss: 0.3198 | val loss: 0.2884\n",
      "epoch: 2/2 | step: 400/938 | trn loss: 0.2956 | val loss: 0.2811\n",
      "epoch: 2/2 | step: 500/938 | trn loss: 0.2764 | val loss: 0.2717\n",
      "epoch: 2/2 | step: 600/938 | trn loss: 0.2830 | val loss: 0.2650\n",
      "epoch: 2/2 | step: 700/938 | trn loss: 0.2665 | val loss: 0.2606\n",
      "epoch: 2/2 | step: 800/938 | trn loss: 0.2726 | val loss: 0.2546\n",
      "epoch: 2/2 | step: 900/938 | trn loss: 0.2450 | val loss: 0.2498\n"
     ]
    }
   ],
   "source": [
    "# loss\n",
    "criterion = nn.CrossEntropyLoss()\n",
    "# backpropagation method\n",
    "learning_rate = 1e-3\n",
    "optimizer = optim.Adam(cnn.parameters(), lr=learning_rate)\n",
    "# hyper-parameters\n",
    "num_epochs = 2\n",
    "num_batches = len(train_iter)\n",
    "\n",
    "trn_loss_list = []\n",
    "val_loss_list = []\n",
    "for epoch in range(num_epochs):\n",
    "    trn_loss = 0.0\n",
    "    for i, data in enumerate(train_iter):\n",
    "        x, label = data\n",
    "        if use_cuda:\n",
    "            x = x.cuda()\n",
    "            label = label.cuda()\n",
    "        # grad init\n",
    "        optimizer.zero_grad()\n",
    "        # forward propagation\n",
    "        model_output = cnn(x)\n",
    "        # calculate loss\n",
    "        loss = criterion(model_output, label)\n",
    "        # back propagation \n",
    "        loss.backward()\n",
    "        # weight update\n",
    "        optimizer.step()\n",
    "        \n",
    "        # trn_loss summary\n",
    "        trn_loss += loss.item()\n",
    "        # del (memory issue)\n",
    "        del loss\n",
    "        del model_output\n",
    "        \n",
    "        # 학습과정 출력\n",
    "        if (i+1) % 100 == 0: # every 100 mini-batches\n",
    "            with torch.no_grad(): # very very very very important!!!\n",
    "                val_loss = 0.0\n",
    "                for j, val in enumerate(train_iter):\n",
    "                    val_x, val_label = val\n",
    "                    if use_cuda:\n",
    "                        val_x = val_x.cuda()\n",
    "                        val_label =val_label.cuda()\n",
    "                    val_output = cnn(val_x)\n",
    "                    v_loss = criterion(val_output, val_label)\n",
    "                    val_loss += v_loss\n",
    "                       \n",
    "            print(\"epoch: {}/{} | step: {}/{} | trn loss: {:.4f} | val loss: {:.4f}\".format(\n",
    "                epoch+1, num_epochs, i+1, num_batches, trn_loss / 100, val_loss / len(train_iter)\n",
    "            ))            \n",
    "            \n",
    "            trn_loss_list.append(trn_loss/100)\n",
    "            val_loss_list.append(val_loss/len(train_iter))\n",
    "            trn_loss = 0.0"
   ]
  },
  {
   "cell_type": "code",
   "execution_count": null,
   "metadata": {},
   "outputs": [],
   "source": []
  }
 ],
 "metadata": {
  "kernelspec": {
   "display_name": "Python 3",
   "language": "python",
   "name": "python3"
  },
  "language_info": {
   "codemirror_mode": {
    "name": "ipython",
    "version": 3
   },
   "file_extension": ".py",
   "mimetype": "text/x-python",
   "name": "python",
   "nbconvert_exporter": "python",
   "pygments_lexer": "ipython3",
   "version": "3.8.3"
  }
 },
 "nbformat": 4,
 "nbformat_minor": 4
}
