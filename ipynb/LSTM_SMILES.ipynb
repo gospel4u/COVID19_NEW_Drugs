{
 "cells": [
  {
   "cell_type": "markdown",
   "metadata": {},
   "source": [
    "# LSTM SMILES 예제"
   ]
  },
  {
   "cell_type": "code",
   "execution_count": 3,
   "metadata": {},
   "outputs": [],
   "source": [
    "import torch\n",
    "import torch.nn as nn\n",
    "import torch.optim as optim\n",
    "import numpy as np"
   ]
  },
  {
   "cell_type": "code",
   "execution_count": 4,
   "metadata": {},
   "outputs": [],
   "source": [
    "sentence = 'c1cc(ccc1C(F)(F)F)S(=O)(=O)N2CCN(C[C@@H]2C(=O)NCc3ccc(c(c3)F)OC(F)(F)F)c4nc5c(s4)cnc(n5)C6CC6'\n",
    "x = sentence[:]\n",
    "y = sentence[:]\n",
    "\n",
    "char_set = list(set(sentence))\n",
    "input_size = len(char_set)\n",
    "hidden_size = len(char_set)\n",
    "\n",
    "index2char = {i:c for i, c in enumerate(char_set)}\n",
    "char2index = {c:i for i, c in enumerate(char_set)}"
   ]
  },
  {
   "cell_type": "code",
   "execution_count": 5,
   "metadata": {},
   "outputs": [
    {
     "name": "stdout",
     "output_type": "stream",
     "text": [
      "c1cc(ccc1C(F)(F)F)S(=O)(=O)N2CCN(C[C@@H]2C(=O)NCc3ccc(c(c3)F)OC(F)(F)F)c4nc5c(s4)cnc(n5)C6CC6\n",
      "c1cc(ccc1C(F)(F)F)S(=O)(=O)N2CCN(C[C@@H]2C(=O)NCc3ccc(c(c3)F)OC(F)(F)F)c4nc5c(s4)cnc(n5)C6CC6\n"
     ]
    }
   ],
   "source": [
    "print(x)\n",
    "print(y)"
   ]
  },
  {
   "cell_type": "code",
   "execution_count": 6,
   "metadata": {},
   "outputs": [
    {
     "name": "stdout",
     "output_type": "stream",
     "text": [
      "{')': 0, 'O': 1, 'C': 2, '3': 3, '1': 4, '5': 5, 'n': 6, '4': 7, 'H': 8, 'N': 9, '=': 10, '@': 11, ']': 12, '(': 13, '2': 14, '6': 15, 'c': 16, 's': 17, 'F': 18, 'S': 19, '[': 20}\n"
     ]
    }
   ],
   "source": [
    "print(char2index)"
   ]
  },
  {
   "cell_type": "code",
   "execution_count": 7,
   "metadata": {},
   "outputs": [
    {
     "name": "stdout",
     "output_type": "stream",
     "text": [
      "[')', 'O', 'C', '3', '1', '5', 'n', '4', 'H', 'N', '=', '@', ']', '(', '2', '6', 'c', 's', 'F', 'S', '[']\n",
      "21\n",
      "21\n"
     ]
    }
   ],
   "source": [
    "print(char_set)\n",
    "print(input_size)\n",
    "print(hidden_size)"
   ]
  },
  {
   "cell_type": "code",
   "execution_count": 8,
   "metadata": {},
   "outputs": [],
   "source": [
    "one_hot = []\n",
    "for i, tkn in enumerate(x):\n",
    "    one_hot.append(np.eye(len(char_set), dtype='int')[char2index[tkn]])\n",
    "    \n",
    "x_train = torch.Tensor(one_hot)\n",
    "x_train = x_train.view(1, len(x), -1)"
   ]
  },
  {
   "cell_type": "code",
   "execution_count": 9,
   "metadata": {},
   "outputs": [
    {
     "name": "stdout",
     "output_type": "stream",
     "text": [
      "tensor([[[0., 0., 0.,  ..., 0., 0., 0.],\n",
      "         [0., 0., 0.,  ..., 0., 0., 0.],\n",
      "         [0., 0., 0.,  ..., 0., 0., 0.],\n",
      "         ...,\n",
      "         [0., 0., 1.,  ..., 0., 0., 0.],\n",
      "         [0., 0., 1.,  ..., 0., 0., 0.],\n",
      "         [0., 0., 0.,  ..., 0., 0., 0.]]])\n"
     ]
    }
   ],
   "source": [
    "print(x_train)"
   ]
  },
  {
   "cell_type": "code",
   "execution_count": 10,
   "metadata": {},
   "outputs": [],
   "source": [
    "# y label\n",
    "y_data = [char2index[c] for c in y]\n",
    "y_data = torch.Tensor(y_data)"
   ]
  },
  {
   "cell_type": "markdown",
   "metadata": {},
   "source": [
    "## Build a model"
   ]
  },
  {
   "cell_type": "code",
   "execution_count": 11,
   "metadata": {},
   "outputs": [
    {
     "data": {
      "text/plain": [
       "RNN(\n",
       "  (rnn): LSTM(21, 21, num_layers=4, batch_first=True, bidirectional=True)\n",
       "  (layers): Sequential(\n",
       "    (0): ReLU()\n",
       "    (1): Linear(in_features=42, out_features=21, bias=True)\n",
       "  )\n",
       ")"
      ]
     },
     "execution_count": 11,
     "metadata": {},
     "output_type": "execute_result"
    }
   ],
   "source": [
    "class RNN(nn.Module):\n",
    "    \n",
    "    # (batch_size, n, )\n",
    "    def __init__(self, input_size, hidden_size):\n",
    "        super().__init__()\n",
    "        self.input_size = input_size\n",
    "        self.hidden_size = hidden_size\n",
    "        \n",
    "        self.rnn = nn.LSTM(\n",
    "            input_size = input_size,\n",
    "            hidden_size = hidden_size,\n",
    "            num_layers = 4,\n",
    "            batch_first = True,\n",
    "            bidirectional = True\n",
    "        )\n",
    "        \n",
    "        self.layers = nn.Sequential(\n",
    "            nn.ReLU(),\n",
    "            nn.Linear(input_size*2, hidden_size),\n",
    "        )\n",
    "        \n",
    "    def forward(self, x):\n",
    "        y,_ = self.rnn(x)\n",
    "        y = self.layers(y)\n",
    "        return y\n",
    "\n",
    "model = RNN(input_size, hidden_size)\n",
    "model"
   ]
  },
  {
   "cell_type": "markdown",
   "metadata": {},
   "source": [
    "## loss & optimizer setting"
   ]
  },
  {
   "cell_type": "code",
   "execution_count": 12,
   "metadata": {},
   "outputs": [],
   "source": [
    "criterion = nn.CrossEntropyLoss()\n",
    "optimizer = optim.Adam(model.parameters())"
   ]
  },
  {
   "cell_type": "markdown",
   "metadata": {},
   "source": [
    "# training"
   ]
  },
  {
   "cell_type": "code",
   "execution_count": 13,
   "metadata": {},
   "outputs": [
    {
     "name": "stdout",
     "output_type": "stream",
     "text": [
      "0 loss  3.053136110305786 \n",
      "prediction:  [[20 20 20 20 20 20 20 20 20 20 20 20 20 20 20 20 20 20 20 20 20 20 20 20\n",
      "  20 20 20 20 20 20 20 20 20 20 20 20 20 20 20 20 20 20 20 20 20 20 20 20\n",
      "  20 20 20 20 20 20 20 20 20 20 20 20 20 20 20 20 20 20 20 20 20 20 20 20\n",
      "  20 20 20 20 20 20 20 20 20 20 20 20 20 20 20 20 20 20 20 20 20]] \n",
      "true Y:  tensor([16.,  4., 16., 16., 13., 16., 16., 16.,  4.,  2., 13., 18.,  0., 13.,\n",
      "        18.,  0., 18.,  0., 19., 13., 10.,  1.,  0., 13., 10.,  1.,  0.,  9.,\n",
      "        14.,  2.,  2.,  9., 13.,  2., 20.,  2., 11., 11.,  8., 12., 14.,  2.,\n",
      "        13., 10.,  1.,  0.,  9.,  2., 16.,  3., 16., 16., 16., 13., 16., 13.,\n",
      "        16.,  3.,  0., 18.,  0.,  1.,  2., 13., 18.,  0., 13., 18.,  0., 18.,\n",
      "         0., 16.,  7.,  6., 16.,  5., 16., 13., 17.,  7.,  0., 16.,  6., 16.,\n",
      "        13.,  6.,  5.,  0.,  2., 15.,  2.,  2., 15.]) \n",
      "prediction str:  [[[[[[[[[[[[[[[[[[[[[[[[[[[[[[[[[[[[[[[[[[[[[[[[[[[[[[[[[[[[[[[[[[[[[[[[[[[[[[[[[[[[[[[[[[[[[ \n",
      "\n",
      "500 loss  1.6650278568267822 \n",
      "prediction:  [[16 16 16 16 16 16 16 16 16 13 13  0  0  0  0  0  0  0  0  0  1  1  1  1\n",
      "   1  1 13  2  2  2  2  2  2  2  2  2  2  2  2  2  2  2  2  2  2  2  2  2\n",
      "  16 16 16 16 16 16 16 16 16 16  0  0  0  0  0  0  0  0  0  0  0  0  0 16\n",
      "  16 16 16 16 16 16 16 16 16 16 16 16 16  6  6  2  2  2  2  2 15]] \n",
      "true Y:  tensor([16.,  4., 16., 16., 13., 16., 16., 16.,  4.,  2., 13., 18.,  0., 13.,\n",
      "        18.,  0., 18.,  0., 19., 13., 10.,  1.,  0., 13., 10.,  1.,  0.,  9.,\n",
      "        14.,  2.,  2.,  9., 13.,  2., 20.,  2., 11., 11.,  8., 12., 14.,  2.,\n",
      "        13., 10.,  1.,  0.,  9.,  2., 16.,  3., 16., 16., 16., 13., 16., 13.,\n",
      "        16.,  3.,  0., 18.,  0.,  1.,  2., 13., 18.,  0., 13., 18.,  0., 18.,\n",
      "         0., 16.,  7.,  6., 16.,  5., 16., 13., 17.,  7.,  0., 16.,  6., 16.,\n",
      "        13.,  6.,  5.,  0.,  2., 15.,  2.,  2., 15.]) \n",
      "prediction str:  ccccccccc(()))))))))OOOOOO(CCCCCCCCCCCCCCCCCCCCCcccccccccc)))))))))))))ccccccccccccccnnCCCCC6 \n",
      "\n",
      "1000 loss  1.179185152053833 \n",
      "prediction:  [[16 16 16 16 13 16 16 16 16 13 13 18 18 18  0  0  0  0 13 13  1 10 10 10\n",
      "   1  1  0  9  9  2  2  2  2  2  2  2 11 11 11 14 14 13 13 10  1  0  9  2\n",
      "  16 16 16 16 16 16 16 16 16 16  0  0  0  0  0  0  0  0  0  0 18  0  0 16\n",
      "  16 16 16 16 16 16 16 16 16 16 16 16  6  6  5  0  2  2  2  2 15]] \n",
      "true Y:  tensor([16.,  4., 16., 16., 13., 16., 16., 16.,  4.,  2., 13., 18.,  0., 13.,\n",
      "        18.,  0., 18.,  0., 19., 13., 10.,  1.,  0., 13., 10.,  1.,  0.,  9.,\n",
      "        14.,  2.,  2.,  9., 13.,  2., 20.,  2., 11., 11.,  8., 12., 14.,  2.,\n",
      "        13., 10.,  1.,  0.,  9.,  2., 16.,  3., 16., 16., 16., 13., 16., 13.,\n",
      "        16.,  3.,  0., 18.,  0.,  1.,  2., 13., 18.,  0., 13., 18.,  0., 18.,\n",
      "         0., 16.,  7.,  6., 16.,  5., 16., 13., 17.,  7.,  0., 16.,  6., 16.,\n",
      "        13.,  6.,  5.,  0.,  2., 15.,  2.,  2., 15.]) \n",
      "prediction str:  cccc(cccc((FFF))))((O===OO)NNCCCCCCC@@@22((=O)NCcccccccccc))))))))))F))cccccccccccccnn5)CCCC6 \n",
      "\n",
      "1500 loss  0.8063101768493652 \n",
      "prediction:  [[16  4 16 16 13 16 16 16  4  2 13 18  0 13 18  0  0  0 19 13 10 10 10 10\n",
      "  10  1  0  9 14  2  2  2 13  2 20  2 11 11  8 12 14  2 13 10  1  0  9  2\n",
      "  16  3 16 16 16 16 16 16 16  3  0 18  0 13 13 13 18 18 18 18  0  0  0 16\n",
      "   6  6 16 16 16 16 16  6  6 16  6 16 16  6  5  0  2 15  2  2 15]] \n",
      "true Y:  tensor([16.,  4., 16., 16., 13., 16., 16., 16.,  4.,  2., 13., 18.,  0., 13.,\n",
      "        18.,  0., 18.,  0., 19., 13., 10.,  1.,  0., 13., 10.,  1.,  0.,  9.,\n",
      "        14.,  2.,  2.,  9., 13.,  2., 20.,  2., 11., 11.,  8., 12., 14.,  2.,\n",
      "        13., 10.,  1.,  0.,  9.,  2., 16.,  3., 16., 16., 16., 13., 16., 13.,\n",
      "        16.,  3.,  0., 18.,  0.,  1.,  2., 13., 18.,  0., 13., 18.,  0., 18.,\n",
      "         0., 16.,  7.,  6., 16.,  5., 16., 13., 17.,  7.,  0., 16.,  6., 16.,\n",
      "        13.,  6.,  5.,  0.,  2., 15.,  2.,  2., 15.]) \n",
      "prediction str:  c1cc(ccc1C(F)(F)))S(=====O)N2CCC(C[C@@H]2C(=O)NCc3ccccccc3)F)(((FFFF)))cnncccccnncnccn5)C6CC6 \n",
      "\n",
      "2000 loss  0.40053296089172363 \n",
      "prediction:  [[16  4 16 16 13 16 16 16  4  2 13 18  0 13 18  0 18  0 19 13 10 10  0 13\n",
      "  10  1  0  9 14  2  2  9 13  2 20  2 11 11  8 12 14  2 13 10  1  0  9  2\n",
      "  16  3 16 16 16 16 16 16 16  3  0 18  0  1  2 13 18  0 13 18  0 18  0 16\n",
      "   7  6 16 16 16 16 16  7  6 16  6 16 13  6  5  0  2 15  2  2 15]] \n",
      "true Y:  tensor([16.,  4., 16., 16., 13., 16., 16., 16.,  4.,  2., 13., 18.,  0., 13.,\n",
      "        18.,  0., 18.,  0., 19., 13., 10.,  1.,  0., 13., 10.,  1.,  0.,  9.,\n",
      "        14.,  2.,  2.,  9., 13.,  2., 20.,  2., 11., 11.,  8., 12., 14.,  2.,\n",
      "        13., 10.,  1.,  0.,  9.,  2., 16.,  3., 16., 16., 16., 13., 16., 13.,\n",
      "        16.,  3.,  0., 18.,  0.,  1.,  2., 13., 18.,  0., 13., 18.,  0., 18.,\n",
      "         0., 16.,  7.,  6., 16.,  5., 16., 13., 17.,  7.,  0., 16.,  6., 16.,\n",
      "        13.,  6.,  5.,  0.,  2., 15.,  2.,  2., 15.]) \n",
      "prediction str:  c1cc(ccc1C(F)(F)F)S(==)(=O)N2CCN(C[C@@H]2C(=O)NCc3ccccccc3)F)OC(F)(F)F)c4nccccc4ncnc(n5)C6CC6 \n",
      "\n",
      "2500 loss  0.19746316969394684 \n",
      "prediction:  [[16  4 16 16 13 16 16 16  4  2 13 18  0 13 18  0 18  0 19 13 10 10  0 13\n",
      "  10  1  0  9 14  2  2  9 13  2 20  2 11 11  8 12 14  2 13 10  1  0  9  2\n",
      "  16  3 16 16 16 13 16 13 16  3  0 18  0  1  2 13 18  0 13 18  0 18  0 16\n",
      "   7  6 16  5 16 16 17  7  0 16  6 16 13  6  5  0  2 15  2  2 15]] \n",
      "true Y:  tensor([16.,  4., 16., 16., 13., 16., 16., 16.,  4.,  2., 13., 18.,  0., 13.,\n",
      "        18.,  0., 18.,  0., 19., 13., 10.,  1.,  0., 13., 10.,  1.,  0.,  9.,\n",
      "        14.,  2.,  2.,  9., 13.,  2., 20.,  2., 11., 11.,  8., 12., 14.,  2.,\n",
      "        13., 10.,  1.,  0.,  9.,  2., 16.,  3., 16., 16., 16., 13., 16., 13.,\n",
      "        16.,  3.,  0., 18.,  0.,  1.,  2., 13., 18.,  0., 13., 18.,  0., 18.,\n",
      "         0., 16.,  7.,  6., 16.,  5., 16., 13., 17.,  7.,  0., 16.,  6., 16.,\n",
      "        13.,  6.,  5.,  0.,  2., 15.,  2.,  2., 15.]) \n",
      "prediction str:  c1cc(ccc1C(F)(F)F)S(==)(=O)N2CCN(C[C@@H]2C(=O)NCc3ccc(c(c3)F)OC(F)(F)F)c4nc5ccs4)cnc(n5)C6CC6 \n",
      "\n",
      "3000 loss  0.07494716346263885 \n",
      "prediction:  [[16  4 16 16 13 16 16 16  4  2 13 18  0 13 18  0 18  0 19 13 10  1  0 13\n",
      "  10  1  0  9 14  2  2  9 13  2 20  2 11 11  8 12 14  2 13 10  1  0  9  2\n",
      "  16  3 16 16 16 13 16 13 16  3  0 18  0  1  2 13 18  0 13 18  0 18  0 16\n",
      "   7  6 16  5 16 13 17  7  0 16  6 16 13  6  5  0  2 15  2  2 15]] \n",
      "true Y:  tensor([16.,  4., 16., 16., 13., 16., 16., 16.,  4.,  2., 13., 18.,  0., 13.,\n",
      "        18.,  0., 18.,  0., 19., 13., 10.,  1.,  0., 13., 10.,  1.,  0.,  9.,\n",
      "        14.,  2.,  2.,  9., 13.,  2., 20.,  2., 11., 11.,  8., 12., 14.,  2.,\n",
      "        13., 10.,  1.,  0.,  9.,  2., 16.,  3., 16., 16., 16., 13., 16., 13.,\n",
      "        16.,  3.,  0., 18.,  0.,  1.,  2., 13., 18.,  0., 13., 18.,  0., 18.,\n",
      "         0., 16.,  7.,  6., 16.,  5., 16., 13., 17.,  7.,  0., 16.,  6., 16.,\n",
      "        13.,  6.,  5.,  0.,  2., 15.,  2.,  2., 15.]) \n",
      "prediction str:  c1cc(ccc1C(F)(F)F)S(=O)(=O)N2CCN(C[C@@H]2C(=O)NCc3ccc(c(c3)F)OC(F)(F)F)c4nc5c(s4)cnc(n5)C6CC6 \n",
      "\n",
      "3500 loss  0.03887338563799858 \n",
      "prediction:  [[16  4 16 16 13 16 16 16  4  2 13 18  0 13 18  0 18  0 19 13 10  1  0 13\n",
      "  10  1  0  9 14  2  2  9 13  2 20  2 11 11  8 12 14  2 13 10  1  0  9  2\n",
      "  16  3 16 16 16 13 16 13 16  3  0 18  0  1  2 13 18  0 13 18  0 18  0 16\n",
      "   7  6 16  5 16 13 17  7  0 16  6 16 13  6  5  0  2 15  2  2 15]] \n",
      "true Y:  tensor([16.,  4., 16., 16., 13., 16., 16., 16.,  4.,  2., 13., 18.,  0., 13.,\n",
      "        18.,  0., 18.,  0., 19., 13., 10.,  1.,  0., 13., 10.,  1.,  0.,  9.,\n",
      "        14.,  2.,  2.,  9., 13.,  2., 20.,  2., 11., 11.,  8., 12., 14.,  2.,\n",
      "        13., 10.,  1.,  0.,  9.,  2., 16.,  3., 16., 16., 16., 13., 16., 13.,\n",
      "        16.,  3.,  0., 18.,  0.,  1.,  2., 13., 18.,  0., 13., 18.,  0., 18.,\n",
      "         0., 16.,  7.,  6., 16.,  5., 16., 13., 17.,  7.,  0., 16.,  6., 16.,\n",
      "        13.,  6.,  5.,  0.,  2., 15.,  2.,  2., 15.]) \n",
      "prediction str:  c1cc(ccc1C(F)(F)F)S(=O)(=O)N2CCN(C[C@@H]2C(=O)NCc3ccc(c(c3)F)OC(F)(F)F)c4nc5c(s4)cnc(n5)C6CC6 \n",
      "\n",
      "Wall time: 26min 27s\n"
     ]
    }
   ],
   "source": [
    "%%time\n",
    "epoch = 4000\n",
    "loss_values = []\n",
    "for i in range(epoch):\n",
    "    model.train()\n",
    "    outputs = model(x_train)\n",
    "    loss = criterion(outputs.view(-1, input_size), y_data.view(-1).long())\n",
    "    \n",
    "    optimizer.zero_grad()\n",
    "    loss.backward()\n",
    "    optimizer.step()\n",
    "    \n",
    "    loss_values.append(loss.item())\n",
    "    \n",
    "    if i%500 == 0:\n",
    "        result = outputs.data.numpy().argmax(axis=2)\n",
    "        result_str = ''.join([char_set[c] for c in np.squeeze(result)])\n",
    "        print(i, \"loss \", loss.item(), \"\\nprediction: \", result, \"\\ntrue Y: \"\n",
    "              , y_data, \"\\nprediction str: \", result_str, \"\\n\")"
   ]
  },
  {
   "cell_type": "code",
   "execution_count": 14,
   "metadata": {},
   "outputs": [
    {
     "data": {
      "image/png": "[encoded data removed]",
      "text/plain": [
       "<Figure size 432x288 with 1 Axes>"
      ]
     },
     "metadata": {
      "needs_background": "light"
     },
     "output_type": "display_data"
    }
   ],
   "source": [
    "import matplotlib.pyplot as plt\n",
    "plt.title('Loss Value')\n",
    "plt.plot(np.array(loss_values), 'r')\n",
    "plt.xlabel('Epochs')\n",
    "plt.ylabel('Loss')\n",
    "plt.show()"
   ]
  },
  {
   "cell_type": "code",
   "execution_count": 15,
   "metadata": {},
   "outputs": [],
   "source": [
    "path = './model.pth'\n",
    "torch.save(model.state_dict(), path)"
   ]
  },
  {
   "cell_type": "markdown",
   "metadata": {},
   "source": [
    "## model test"
   ]
  },
  {
   "cell_type": "code",
   "execution_count": null,
   "metadata": {},
   "outputs": [],
   "source": [
    "model.eval()\n",
    "x_test = 'C1N(c2nc3nc(C4CC4)ncc3s2)C[C@H](C(NCc2ccc(OC(F)(F)F)c(F)c2)=O)N(S(=O)(c2ccc(C(F)(F)F)cc2)=O)C1'\n",
    "y_test = model(x_test)"
   ]
  },
  {
   "cell_type": "markdown",
   "metadata": {},
   "source": [
    "-----------"
   ]
  },
  {
   "cell_type": "markdown",
   "metadata": {},
   "source": [
    "참고문헌:  \n",
    "http://cedartrees.co.kr/index.php/category/ai/pytorch-lstm/\n",
    "https://github.com/BLarzalere/AI-De-Novo-Molecule-Design/blob/master/Data/latent_data.csv"
   ]
  }
 ],
 "metadata": {
  "kernelspec": {
   "display_name": "Python 3",
   "language": "python",
   "name": "python3"
  },
  "language_info": {
   "codemirror_mode": {
    "name": "ipython",
    "version": 3
   },
   "file_extension": ".py",
   "mimetype": "text/x-python",
   "name": "python",
   "nbconvert_exporter": "python",
   "pygments_lexer": "ipython3",
   "version": "3.8.3"
  }
 },
 "nbformat": 4,
 "nbformat_minor": 4
}
